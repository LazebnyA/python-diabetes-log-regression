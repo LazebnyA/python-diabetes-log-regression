{
 "cells": [
  {
   "cell_type": "code",
   "id": "initial_id",
   "metadata": {
    "collapsed": true,
    "ExecuteTime": {
     "end_time": "2024-09-02T13:11:38.248781Z",
     "start_time": "2024-09-02T13:11:38.048745Z"
    }
   },
   "source": [
    "import pandas as pd\n",
    "import numpy as np\n",
    "import matplotlib.pyplot as plt\n",
    "import seaborn as sns\n",
    "\n",
    "from sklearn.model_selection import train_test_split"
   ],
   "outputs": [],
   "execution_count": 4
  },
  {
   "metadata": {
    "jupyter": {
     "is_executing": true
    }
   },
   "cell_type": "code",
   "source": [
    "df = pd.read_csv('prepared_data.csv')\n",
    "df.drop(df['Unnamed'], inplace=True, axis=1)\n",
    "df.head()"
   ],
   "id": "3ab2749c5d949d39",
   "outputs": [],
   "execution_count": null
  },
  {
   "metadata": {},
   "cell_type": "markdown",
   "source": "Simple visualizations",
   "id": "90a3bc7d9ba0bba3"
  },
  {
   "metadata": {
    "ExecuteTime": {
     "end_time": "2024-09-02T13:08:54.913616Z",
     "start_time": "2024-09-02T13:08:54.910747Z"
    }
   },
   "cell_type": "code",
   "source": [
    "def two_dim_plot_diabetes(data: pd.DataFrame, x_col: str, y_col: str):\n",
    "    sns.scatterplot(x=data[x_col], y=data[y_col])\n",
    "    \n",
    "# BMI vs Age\n",
    "two_dim_plot_diabetes(df, '')\n",
    "\n"
   ],
   "id": "9bfdc55376e2ce1b",
   "outputs": [],
   "execution_count": 3
  },
  {
   "metadata": {},
   "cell_type": "code",
   "outputs": [],
   "execution_count": null,
   "source": "",
   "id": "917833c5f3d624a2"
  }
 ],
 "metadata": {
  "kernelspec": {
   "display_name": "Python 3",
   "language": "python",
   "name": "python3"
  },
  "language_info": {
   "codemirror_mode": {
    "name": "ipython",
    "version": 2
   },
   "file_extension": ".py",
   "mimetype": "text/x-python",
   "name": "python",
   "nbconvert_exporter": "python",
   "pygments_lexer": "ipython2",
   "version": "2.7.6"
  }
 },
 "nbformat": 4,
 "nbformat_minor": 5
}
