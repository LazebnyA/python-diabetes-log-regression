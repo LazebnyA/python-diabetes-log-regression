{
 "cells": [
  {
   "cell_type": "markdown",
   "metadata": {},
   "source": [
    "# Imports"
   ]
  },
  {
   "cell_type": "code",
   "execution_count": 29,
   "metadata": {},
   "outputs": [],
   "source": [
    "import pandas as pd\n",
    "import numpy as np\n",
    "import matplotlib.pyplot as plt\n",
    "\n",
    "from sklearn.metrics import classification_report"
   ]
  },
  {
   "cell_type": "markdown",
   "metadata": {},
   "source": [
    "# Initial"
   ]
  },
  {
   "cell_type": "code",
   "execution_count": 27,
   "metadata": {},
   "outputs": [
    {
     "name": "stdout",
     "output_type": "stream",
     "text": [
      "   Unnamed: 0  Diabetes_binary  HighBP  HighChol  CholCheck   BMI  Smoker  \\\n",
      "0           0                0       1         1          1  40.0       1   \n",
      "1           1                0       0         0          0  25.0       1   \n",
      "2           2                0       1         1          1  28.0       0   \n",
      "3           3                0       1         0          1  27.0       0   \n",
      "4           4                0       1         1          1  24.0       0   \n",
      "\n",
      "   Stroke  HeartDiseaseorAttack  PhysActivity  ...  AnyHealthcare  \\\n",
      "0       0                     0             0  ...              1   \n",
      "1       0                     0             1  ...              0   \n",
      "2       0                     0             0  ...              1   \n",
      "3       0                     0             1  ...              1   \n",
      "4       0                     0             1  ...              1   \n",
      "\n",
      "   NoDocbcCost  GenHlth  MentHlth  PhysHlth  DiffWalk  Sex  Age  Education  \\\n",
      "0            0        5      18.0      15.0         1    0    9          4   \n",
      "1            1        3       0.0       0.0         0    0    7          6   \n",
      "2            1        5      30.0      30.0         1    0    9          4   \n",
      "3            0        2       0.0       0.0         0    0   11          3   \n",
      "4            0        2       3.0       0.0         0    0   11          5   \n",
      "\n",
      "   Income  \n",
      "0       3  \n",
      "1       1  \n",
      "2       8  \n",
      "3       6  \n",
      "4       4  \n",
      "\n",
      "[5 rows x 23 columns]\n"
     ]
    }
   ],
   "source": [
    "df = pd.read_csv('prepared_data.csv')\n",
    "print(df.head())\n",
    "\n",
    "df.drop('Unnamed: 0', axis=1, inplace=True)"
   ]
  },
  {
   "cell_type": "markdown",
   "metadata": {},
   "source": [
    "## Create models dict for storing metrics"
   ]
  },
  {
   "cell_type": "code",
   "execution_count": 26,
   "metadata": {},
   "outputs": [],
   "source": [
    "models = {}"
   ]
  },
  {
   "cell_type": "markdown",
   "metadata": {},
   "source": [
    "### Split data on train and test"
   ]
  },
  {
   "cell_type": "code",
   "execution_count": 28,
   "metadata": {},
   "outputs": [],
   "source": [
    "from sklearn.model_selection import train_test_split\n",
    "\n",
    "X = df.iloc[:, 1:]\n",
    "y = df['Diabetes_binary']\n",
    "\n",
    "train_X, test_X, train_y, test_y = train_test_split(X, y, random_state=1)"
   ]
  },
  {
   "cell_type": "markdown",
   "metadata": {},
   "source": [
    "### Gaussian Naive Bayes classifier"
   ]
  },
  {
   "cell_type": "code",
   "execution_count": 36,
   "metadata": {},
   "outputs": [
    {
     "name": "stdout",
     "output_type": "stream",
     "text": [
      "              precision    recall  f1-score   support\n",
      "\n",
      "           0       0.92      0.81      0.86     54551\n",
      "           1       0.33      0.57      0.42      8869\n",
      "\n",
      "    accuracy                           0.78     63420\n",
      "   macro avg       0.62      0.69      0.64     63420\n",
      "weighted avg       0.84      0.78      0.80     63420\n",
      "\n"
     ]
    }
   ],
   "source": [
    "from sklearn.naive_bayes import GaussianNB\n",
    "\n",
    "gaussian_nb_model = GaussianNB()\n",
    "gaussian_nb_model.fit(train_X, train_y)\n",
    "\n",
    "pred_y = gaussian_nb_model.predict(test_X)\n",
    "\n",
    "models['gaussian_nb_model'] = {\n",
    "    'classification_report': classification_report\n",
    "}\n",
    "\n",
    "print(classification_report(test_y, pred_y))"
   ]
  },
  {
   "cell_type": "markdown",
   "metadata": {},
   "source": [
    "precision_0 is good, but other metrics gave not impressive result"
   ]
  },
  {
   "cell_type": "markdown",
   "metadata": {},
   "source": [
    "### Multinomial Naive Bayes classifier"
   ]
  },
  {
   "cell_type": "code",
   "execution_count": 37,
   "metadata": {},
   "outputs": [
    {
     "name": "stdout",
     "output_type": "stream",
     "text": [
      "              precision    recall  f1-score   support\n",
      "\n",
      "           0       0.89      0.84      0.87     54551\n",
      "           1       0.26      0.34      0.30      8869\n",
      "\n",
      "    accuracy                           0.77     63420\n",
      "   macro avg       0.58      0.59      0.58     63420\n",
      "weighted avg       0.80      0.77      0.79     63420\n",
      "\n"
     ]
    }
   ],
   "source": [
    "from sklearn.naive_bayes import MultinomialNB\n",
    "\n",
    "multinomial_nb_model = MultinomialNB()\n",
    "multinomial_nb_model.fit(train_X, train_y)\n",
    "\n",
    "pred_y = multinomial_nb_model.predict(test_X)\n",
    "\n",
    "models['multinomial_nb_model'] = {\n",
    "    'classification_report': classification_report\n",
    "}\n",
    "\n",
    "print(classification_report(test_y, pred_y))"
   ]
  },
  {
   "cell_type": "markdown",
   "metadata": {},
   "source": [
    "Results are even worse"
   ]
  },
  {
   "cell_type": "markdown",
   "metadata": {},
   "source": []
  }
 ],
 "metadata": {
  "kernelspec": {
   "display_name": "Python 3",
   "language": "python",
   "name": "python3"
  },
  "language_info": {
   "codemirror_mode": {
    "name": "ipython",
    "version": 3
   },
   "file_extension": ".py",
   "mimetype": "text/x-python",
   "name": "python",
   "nbconvert_exporter": "python",
   "pygments_lexer": "ipython3",
   "version": "3.11.9"
  }
 },
 "nbformat": 4,
 "nbformat_minor": 2
}
